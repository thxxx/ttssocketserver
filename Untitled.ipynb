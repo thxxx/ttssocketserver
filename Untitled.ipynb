{
 "cells": [
  {
   "cell_type": "code",
   "execution_count": 10,
   "id": "9f0812f6-3b02-42f7-8d12-e9785e8592f7",
   "metadata": {},
   "outputs": [
    {
     "name": "stderr",
     "output_type": "stream",
     "text": [
      "Device set to use cuda:0\n"
     ]
    }
   ],
   "source": [
    "import torch\n",
    "from transformers import AutoModelForSpeechSeq2Seq, AutoProcessor, pipeline\n",
    "from datasets import load_dataset\n",
    "\n",
    "\n",
    "device = \"cuda:0\" if torch.cuda.is_available() else \"cpu\"\n",
    "torch_dtype = torch.float16 if torch.cuda.is_available() else torch.float32\n",
    "\n",
    "model_id = \"openai/whisper-large-v3-turbo\"\n",
    "\n",
    "model = AutoModelForSpeechSeq2Seq.from_pretrained(\n",
    "    model_id, torch_dtype=torch_dtype, low_cpu_mem_usage=True, use_safetensors=True\n",
    ")\n",
    "model.to(device)\n",
    "\n",
    "processor = AutoProcessor.from_pretrained(model_id)\n",
    "\n",
    "pipe = pipeline(\n",
    "    \"automatic-speech-recognition\",\n",
    "    model=model,\n",
    "    tokenizer=processor.tokenizer,\n",
    "    feature_extractor=processor.feature_extractor,\n",
    "    torch_dtype=torch_dtype,\n",
    "    device=device,\n",
    ")"
   ]
  },
  {
   "cell_type": "code",
   "execution_count": 40,
   "id": "10b420af-6f72-41d0-a608-911a8cb5d6ba",
   "metadata": {},
   "outputs": [
    {
     "name": "stdout",
     "output_type": "stream",
     "text": [
      "0.02082967758178711\n"
     ]
    }
   ],
   "source": [
    "import io\n",
    "import base64\n",
    "from openai import OpenAI\n",
    "import time\n",
    "import soundfile as sf\n",
    "import librosa\n",
    "\n",
    "# base64 문자열 예시\n",
    "with open(\"eo_05.mp3\", \"rb\") as f:\n",
    "    b64_audio = base64.b64encode(f.read()).decode()\n",
    "\n",
    "audio_bytes = base64.b64decode(b64_audio)\n",
    "stt = time.time()\n",
    "data, sr = sf.read(io.BytesIO(audio_bytes), dtype=\"float32\", always_2d=True)\n",
    "mono = data.mean(axis=1)  # 모노 변환\n",
    "mono_16k = librosa.resample(mono, orig_sr=sr, target_sr=16000)\n",
    "print(time.time() - stt)"
   ]
  },
  {
   "cell_type": "code",
   "execution_count": 44,
   "id": "c845e606-d9fe-471b-b8b6-b2e46075f717",
   "metadata": {},
   "outputs": [
    {
     "name": "stdout",
     "output_type": "stream",
     "text": [
      "{'text': ' 이런 얘기들을 되게 많이 하시는데 저는 사실 그렇게 생각하지 않았어요. 당시의 KBT는 매출'} \n",
      " 0.3383030891418457\n"
     ]
    }
   ],
   "source": [
    "import time\n",
    "\n",
    "params = dict(\n",
    "    beam_size=1,                # 1이면 그리디; 빔서치(>=2)는 느림. 보통 1~2 추천\n",
    "    best_of=1,                  # 그리디일 때는 의미 없음. 작게.\n",
    "    temperature=0.0,            # 안정/속도↑. (불확실 시 fallback으로 [0.0, 0.2, 0.4] 등 가능)\n",
    "    vad_filter=True,            # 무음 제거 → 디코딩량 ↓\n",
    "    vad_parameters=dict(min_silence_duration_ms=500),\n",
    "    chunk_length=15,            # 초 단위. 10~20초 권장(긴 문맥 필요하면 20~30)\n",
    "    no_speech_threshold=0.6,    # 무음 판단 강화로 낭비 줄이기\n",
    "    log_prob_threshold=-1.0,    # 너무 낮으면 실패로 간주하고 temperature fallback 고려\n",
    "    word_timestamps=False,      # 단어 타임스탬프 끄면 속도↑ (필요 시만 True)\n",
    "    condition_on_previous_text=False,  # 청크 간 의존 줄여 속도/안정 ↑\n",
    ")\n",
    "\n",
    "st = time.time()\n",
    "result = pipe(mono_16k, generate_kwargs={\"language\": \"korean\"})\n",
    "print(result, \"\\n\", time.time() - st)"
   ]
  },
  {
   "cell_type": "code",
   "execution_count": null,
   "id": "add33b02-8e0f-477e-80ac-9ad6075ab045",
   "metadata": {},
   "outputs": [],
   "source": []
  },
  {
   "cell_type": "code",
   "execution_count": 20,
   "id": "1285bdae-224c-4131-9f4d-da92fb87ba94",
   "metadata": {},
   "outputs": [
    {
     "name": "stdout",
     "output_type": "stream",
     "text": [
      "변환 완료: output.mp3\n"
     ]
    }
   ],
   "source": [
    "from pydub import AudioSegment\n",
    "\n",
    "# m4a 불러오기\n",
    "audio = AudioSegment.from_file(\"dong.m4a\", format=\"m4a\")\n",
    "\n",
    "# mp3로 저장\n",
    "audio.export(\"eo.mp3\", format=\"mp3\")\n",
    "\n",
    "print(\"변환 완료: output.mp3\")"
   ]
  },
  {
   "cell_type": "code",
   "execution_count": null,
   "id": "25fc8064-6d12-4b25-9e16-404961050a04",
   "metadata": {},
   "outputs": [],
   "source": []
  }
 ],
 "metadata": {
  "kernelspec": {
   "display_name": "Python 3 (ipykernel)",
   "language": "python",
   "name": "python3"
  },
  "language_info": {
   "codemirror_mode": {
    "name": "ipython",
    "version": 3
   },
   "file_extension": ".py",
   "mimetype": "text/x-python",
   "name": "python",
   "nbconvert_exporter": "python",
   "pygments_lexer": "ipython3",
   "version": "3.11.11"
  }
 },
 "nbformat": 4,
 "nbformat_minor": 5
}
