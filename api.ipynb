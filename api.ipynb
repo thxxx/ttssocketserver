{
 "cells": [
  {
   "cell_type": "code",
   "execution_count": null,
   "id": "971b7ebd-daec-4152-9ab8-79a1f3750165",
   "metadata": {},
   "outputs": [],
   "source": [
    "from pydub import AudioSegment\n",
    "\n",
    "# m4a 불러오기\n",
    "audio = AudioSegment.from_file(\"dong.m4a\", format=\"m4a\")\n",
    "\n",
    "# mp3로 저장\n",
    "audio.export(\"eo.mp3\", format=\"mp3\")\n",
    "\n",
    "print(\"변환 완료: output.mp3\")"
   ]
  },
  {
   "cell_type": "code",
   "execution_count": null,
   "id": "af4b83d8-fb4c-4eaf-bcad-a53108609293",
   "metadata": {},
   "outputs": [],
   "source": [
    "from IPython.display import Audio\n",
    "\n",
    "display(Audio(\"ko1_01.mp3\"))\n",
    "display(Audio(\"ko1_14.mp3\"))\n",
    "display(Audio(\"ko1_25.mp3\"))"
   ]
  },
  {
   "cell_type": "code",
   "execution_count": 1,
   "id": "a06bcc2f-ceea-4173-a580-fbd521e234ba",
   "metadata": {},
   "outputs": [
    {
     "name": "stdout",
     "output_type": "stream",
     "text": [
      "<pydub.audio_segment.AudioSegment object at 0x73c70064b250>\n",
      "잘라낸 구간이 output.mp3로 저장되었습니다.\n"
     ]
    }
   ],
   "source": [
    "from pydub import AudioSegment\n",
    "\n",
    "# 원본 오디오 파일 불러오기 (mp3, wav 등)\n",
    "audio = AudioSegment.from_file(\"eo.m4a\", format=\"m4a\")\n",
    "print(audio)\n",
    "\n",
    "# 잘라낼 구간 (밀리초 단위)\n",
    "start_ms = 0\n",
    "end_ms = 2000\n",
    "\n",
    "# 특정 구간 추출\n",
    "clip = audio[start_ms:end_ms]\n",
    "\n",
    "# 새 파일로 저장\n",
    "clip.export(\"eo_02.mp3\", format=\"mp3\")\n",
    "\n",
    "print(\"잘라낸 구간이 output.mp3로 저장되었습니다.\")"
   ]
  },
  {
   "cell_type": "code",
   "execution_count": 5,
   "id": "d154c055-4d5a-4f6f-ae13-c8c19e30f318",
   "metadata": {},
   "outputs": [
    {
     "name": "stdout",
     "output_type": "stream",
     "text": [
      "저는 사실 그렇게 생각하지 않아요. 1.6810252666473389\n"
     ]
    }
   ],
   "source": [
    "import io\n",
    "import base64\n",
    "from openai import OpenAI\n",
    "import time\n",
    "\n",
    "client = OpenAI(api_key=\"\")\n",
    "\n",
    "# base64 문자열 예시\n",
    "with open(\"eo_05.mp3\", \"rb\") as f:\n",
    "    b64_audio = base64.b64encode(f.read()).decode()\n",
    "\n",
    "# 다시 bytes로 변환\n",
    "audio_bytes = base64.b64decode(b64_audio)\n",
    "audio_stream = io.BytesIO(audio_bytes)\n",
    "audio_stream.name = \"audio.mp3\"\n",
    "\n",
    "st = time.time()\n",
    "transcription = client.audio.transcriptions.create(\n",
    "    model=\"gpt-4o-mini-transcribe\",\n",
    "    file=audio_stream\n",
    ")\n",
    "\n",
    "print(transcription.text, time.time() - st)"
   ]
  },
  {
   "cell_type": "code",
   "execution_count": 6,
   "id": "22e81cd4-0f20-4f19-9600-f4c9d9c02825",
   "metadata": {},
   "outputs": [
    {
     "name": "stdout",
     "output_type": "stream",
     "text": [
      "저는 그렇게 생각하지 않습니다. 1.4089326858520508\n"
     ]
    }
   ],
   "source": [
    "st = time.time()\n",
    "transcription = client.audio.transcriptions.create(\n",
    "    model=\"gpt-4o-mini-transcribe\",\n",
    "    file=audio_stream\n",
    ")\n",
    "\n",
    "print(transcription.text, time.time() - st)"
   ]
  },
  {
   "cell_type": "code",
   "execution_count": 4,
   "id": "250b95f2-5961-46d0-95b0-f36eb7e44718",
   "metadata": {},
   "outputs": [
    {
     "ename": "FileNotFoundError",
     "evalue": "[Errno 2] No such file or directory: 'output.mp3'",
     "output_type": "error",
     "traceback": [
      "\u001b[31m---------------------------------------------------------------------------\u001b[39m",
      "\u001b[31mFileNotFoundError\u001b[39m                         Traceback (most recent call last)",
      "\u001b[36mCell\u001b[39m\u001b[36m \u001b[39m\u001b[32mIn[4]\u001b[39m\u001b[32m, line 4\u001b[39m\n\u001b[32m      1\u001b[39m \u001b[38;5;28;01mfrom\u001b[39;00m\u001b[38;5;250m \u001b[39m\u001b[34;01mopenai\u001b[39;00m\u001b[38;5;250m \u001b[39m\u001b[38;5;28;01mimport\u001b[39;00m OpenAI\n\u001b[32m      3\u001b[39m \u001b[38;5;66;03m# 전체 오디오 파일 업로드\u001b[39;00m\n\u001b[32m----> \u001b[39m\u001b[32m4\u001b[39m \u001b[38;5;28;01mwith\u001b[39;00m \u001b[38;5;28;43mopen\u001b[39;49m\u001b[43m(\u001b[49m\u001b[33;43m\"\u001b[39;49m\u001b[33;43moutput.mp3\u001b[39;49m\u001b[33;43m\"\u001b[39;49m\u001b[43m,\u001b[49m\u001b[43m \u001b[49m\u001b[33;43m\"\u001b[39;49m\u001b[33;43mrb\u001b[39;49m\u001b[33;43m\"\u001b[39;49m\u001b[43m)\u001b[49m \u001b[38;5;28;01mas\u001b[39;00m audio_file:\n\u001b[32m      5\u001b[39m     transcription = client.audio.transcriptions.create(\n\u001b[32m      6\u001b[39m         model=\u001b[33m\"\u001b[39m\u001b[33mgpt-4o-mini-transcribe\u001b[39m\u001b[33m\"\u001b[39m,  \u001b[38;5;66;03m# 모델 지정\u001b[39;00m\n\u001b[32m      7\u001b[39m         file=audio_file,                 \u001b[38;5;66;03m# 파일 객체\u001b[39;00m\n\u001b[32m      8\u001b[39m         \u001b[38;5;66;03m# language=\"en\",                 # 필요 시 언어 지정 가능\u001b[39;00m\n\u001b[32m      9\u001b[39m     )\n\u001b[32m     11\u001b[39m \u001b[38;5;28mprint\u001b[39m(transcription.text)\n",
      "\u001b[36mFile \u001b[39m\u001b[32m/usr/local/lib/python3.11/dist-packages/IPython/core/interactiveshell.py:325\u001b[39m, in \u001b[36m_modified_open\u001b[39m\u001b[34m(file, *args, **kwargs)\u001b[39m\n\u001b[32m    318\u001b[39m \u001b[38;5;28;01mif\u001b[39;00m file \u001b[38;5;129;01min\u001b[39;00m {\u001b[32m0\u001b[39m, \u001b[32m1\u001b[39m, \u001b[32m2\u001b[39m}:\n\u001b[32m    319\u001b[39m     \u001b[38;5;28;01mraise\u001b[39;00m \u001b[38;5;167;01mValueError\u001b[39;00m(\n\u001b[32m    320\u001b[39m         \u001b[33mf\u001b[39m\u001b[33m\"\u001b[39m\u001b[33mIPython won\u001b[39m\u001b[33m'\u001b[39m\u001b[33mt let you open fd=\u001b[39m\u001b[38;5;132;01m{\u001b[39;00mfile\u001b[38;5;132;01m}\u001b[39;00m\u001b[33m by default \u001b[39m\u001b[33m\"\u001b[39m\n\u001b[32m    321\u001b[39m         \u001b[33m\"\u001b[39m\u001b[33mas it is likely to crash IPython. If you know what you are doing, \u001b[39m\u001b[33m\"\u001b[39m\n\u001b[32m    322\u001b[39m         \u001b[33m\"\u001b[39m\u001b[33myou can use builtins\u001b[39m\u001b[33m'\u001b[39m\u001b[33m open.\u001b[39m\u001b[33m\"\u001b[39m\n\u001b[32m    323\u001b[39m     )\n\u001b[32m--> \u001b[39m\u001b[32m325\u001b[39m \u001b[38;5;28;01mreturn\u001b[39;00m \u001b[43mio_open\u001b[49m\u001b[43m(\u001b[49m\u001b[43mfile\u001b[49m\u001b[43m,\u001b[49m\u001b[43m \u001b[49m\u001b[43m*\u001b[49m\u001b[43margs\u001b[49m\u001b[43m,\u001b[49m\u001b[43m \u001b[49m\u001b[43m*\u001b[49m\u001b[43m*\u001b[49m\u001b[43mkwargs\u001b[49m\u001b[43m)\u001b[49m\n",
      "\u001b[31mFileNotFoundError\u001b[39m: [Errno 2] No such file or directory: 'output.mp3'"
     ]
    }
   ],
   "source": [
    "from openai import OpenAI\n",
    "\n",
    "# 전체 오디오 파일 업로드\n",
    "with open(\"output.mp3\", \"rb\") as audio_file:\n",
    "    transcription = client.audio.transcriptions.create(\n",
    "        model=\"gpt-4o-mini-transcribe\",  # 모델 지정\n",
    "        file=audio_file,                 # 파일 객체\n",
    "        # language=\"en\",                 # 필요 시 언어 지정 가능\n",
    "    )\n",
    "\n",
    "print(transcription.text)"
   ]
  },
  {
   "cell_type": "code",
   "execution_count": null,
   "id": "f732e22e-9dde-4de6-9021-b1d21475fa66",
   "metadata": {},
   "outputs": [],
   "source": []
  }
 ],
 "metadata": {
  "kernelspec": {
   "display_name": "Python 3 (ipykernel)",
   "language": "python",
   "name": "python3"
  },
  "language_info": {
   "codemirror_mode": {
    "name": "ipython",
    "version": 3
   },
   "file_extension": ".py",
   "mimetype": "text/x-python",
   "name": "python",
   "nbconvert_exporter": "python",
   "pygments_lexer": "ipython3",
   "version": "3.11.11"
  }
 },
 "nbformat": 4,
 "nbformat_minor": 5
}
