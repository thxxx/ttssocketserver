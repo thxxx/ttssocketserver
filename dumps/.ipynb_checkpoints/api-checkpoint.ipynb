{
 "cells": [
  {
   "cell_type": "code",
   "execution_count": null,
   "id": "971b7ebd-daec-4152-9ab8-79a1f3750165",
   "metadata": {},
   "outputs": [],
   "source": [
    "from pydub import AudioSegment\n",
    "\n",
    "# m4a 불러오기\n",
    "audio = AudioSegment.from_file(\"dong.m4a\", format=\"m4a\")\n",
    "\n",
    "# mp3로 저장\n",
    "audio.export(\"eo.mp3\", format=\"mp3\")\n",
    "\n",
    "print(\"변환 완료: output.mp3\")"
   ]
  },
  {
   "cell_type": "code",
   "execution_count": null,
   "id": "af4b83d8-fb4c-4eaf-bcad-a53108609293",
   "metadata": {},
   "outputs": [],
   "source": [
    "from IPython.display import Audio\n",
    "\n",
    "display(Audio(\"ko1_01.mp3\"))\n",
    "display(Audio(\"ko1_14.mp3\"))\n",
    "display(Audio(\"ko1_25.mp3\"))"
   ]
  },
  {
   "cell_type": "code",
   "execution_count": null,
   "id": "a06bcc2f-ceea-4173-a580-fbd521e234ba",
   "metadata": {},
   "outputs": [],
   "source": [
    "from pydub import AudioSegment\n",
    "\n",
    "# 원본 오디오 파일 불러오기 (mp3, wav 등)\n",
    "audio = AudioSegment.from_file(\"eo.m4a\", format=\"m4a\")\n",
    "print(audio)\n",
    "\n",
    "# 잘라낼 구간 (밀리초 단위)\n",
    "start_ms = 0\n",
    "end_ms = 2000\n",
    "\n",
    "# 특정 구간 추출\n",
    "clip = audio[start_ms:end_ms]\n",
    "\n",
    "# 새 파일로 저장\n",
    "clip.export(\"eo_02.mp3\", format=\"mp3\")\n",
    "\n",
    "print(\"잘라낸 구간이 output.mp3로 저장되었습니다.\")"
   ]
  },
  {
   "cell_type": "code",
   "execution_count": null,
   "id": "d154c055-4d5a-4f6f-ae13-c8c19e30f318",
   "metadata": {},
   "outputs": [],
   "source": [
    "import io\n",
    "import base64\n",
    "from openai import OpenAI\n",
    "import time\n",
    "\n",
    "client = OpenAI(api_key=\"\")\n",
    "\n",
    "# base64 문자열 예시\n",
    "with open(\"eo_05.mp3\", \"rb\") as f:\n",
    "    b64_audio = base64.b64encode(f.read()).decode()\n",
    "\n",
    "# 다시 bytes로 변환\n",
    "audio_bytes = base64.b64decode(b64_audio)\n",
    "audio_stream = io.BytesIO(audio_bytes)\n",
    "audio_stream.name = \"audio.mp3\"\n",
    "\n",
    "st = time.time()\n",
    "transcription = client.audio.transcriptions.create(\n",
    "    model=\"gpt-4o-mini-transcribe\",\n",
    "    file=audio_stream\n",
    ")\n",
    "\n",
    "print(transcription.text, time.time() - st)"
   ]
  },
  {
   "cell_type": "code",
   "execution_count": null,
   "id": "22e81cd4-0f20-4f19-9600-f4c9d9c02825",
   "metadata": {},
   "outputs": [],
   "source": [
    "st = time.time()\n",
    "transcription = client.audio.transcriptions.create(\n",
    "    model=\"gpt-4o-mini-transcribe\",\n",
    "    file=audio_stream\n",
    ")\n",
    "\n",
    "print(transcription.text, time.time() - st)"
   ]
  },
  {
   "cell_type": "code",
   "execution_count": null,
   "id": "250b95f2-5961-46d0-95b0-f36eb7e44718",
   "metadata": {},
   "outputs": [],
   "source": [
    "from openai import OpenAI\n",
    "\n",
    "# 전체 오디오 파일 업로드\n",
    "with open(\"output.mp3\", \"rb\") as audio_file:\n",
    "    transcription = client.audio.transcriptions.create(\n",
    "        model=\"gpt-4o-mini-transcribe\",  # 모델 지정\n",
    "        file=audio_file,                 # 파일 객체\n",
    "        # language=\"en\",                 # 필요 시 언어 지정 가능\n",
    "    )\n",
    "\n",
    "print(transcription.text)"
   ]
  },
  {
   "cell_type": "code",
   "execution_count": null,
   "id": "22754541-ff8a-4d1f-9040-bdbb7bf5126e",
   "metadata": {},
   "outputs": [],
   "source": []
  },
  {
   "cell_type": "code",
   "execution_count": null,
   "id": "5834daea-3128-41d8-87ce-a864c7e43555",
   "metadata": {},
   "outputs": [],
   "source": [
    "from kittentts import KittenTTS\n",
    "\n",
    "m = KittenTTS(\"KittenML/kitten-tts-nano-0.1\")"
   ]
  },
  {
   "cell_type": "code",
   "execution_count": null,
   "id": "b71d322f-9fec-44fb-8b12-8a9069c56e74",
   "metadata": {},
   "outputs": [],
   "source": [
    "import time\n",
    "\n",
    "st = time.time()\n",
    "\n",
    "audio = m.generate(\"This high quality TTS model works without a GPU\", voice='expr-voice-2-f' )\n",
    "\n",
    "print(time.time() - st)"
   ]
  },
  {
   "cell_type": "code",
   "execution_count": null,
   "id": "8a6e079b-266e-49ed-9db8-a09330fb8ef9",
   "metadata": {},
   "outputs": [],
   "source": [
    "audio"
   ]
  },
  {
   "cell_type": "code",
   "execution_count": null,
   "id": "f86401be-7488-49a0-8a5d-77977984e3d3",
   "metadata": {},
   "outputs": [],
   "source": []
  }
 ],
 "metadata": {
  "kernelspec": {
   "display_name": "Python 3 (ipykernel)",
   "language": "python",
   "name": "python3"
  },
  "language_info": {
   "codemirror_mode": {
    "name": "ipython",
    "version": 3
   },
   "file_extension": ".py",
   "mimetype": "text/x-python",
   "name": "python",
   "nbconvert_exporter": "python",
   "pygments_lexer": "ipython3",
   "version": "3.11.11"
  }
 },
 "nbformat": 4,
 "nbformat_minor": 5
}
