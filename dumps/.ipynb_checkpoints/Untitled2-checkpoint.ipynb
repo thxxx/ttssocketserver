{
 "cells": [
  {
   "cell_type": "code",
   "execution_count": 18,
   "id": "a8d638dc-8c03-4eb2-b80d-cdf6e83ac000",
   "metadata": {},
   "outputs": [],
   "source": [
    "from faster_whisper import WhisperModel\n",
    "\n",
    "# device: \"cuda\" | \"cpu\" | \"auto\", compute_type: \"float16\" | \"int8_float16\" | \"int8\" | \"fp32\"\n",
    "# 권장: GPU 있으면 \"cuda\"+\"float16\" (최고 속도/정확도 균형)\n",
    "# VRAM이 빠듯하면 \"int8_float16\" (속도↑, 정확도 거의 유지)\n",
    "model = WhisperModel(\n",
    "    \"/workspace/ct2_v3_turbo_ko\",           # turbo 대신 large-v3 원본 가중치도 CT2로 매우 빠름\n",
    "    device=\"cuda\",              # 없으면 \"auto\"\n",
    "    compute_type=\"float16\",     # 또는 \"int8_float16\"\n",
    "    cpu_threads=0,              # CPU용일 때만 의미. 0=자동\n",
    "    num_workers=1               # 디코더 스레드 (GPU에선 크게 의미없음)\n",
    ")"
   ]
  },
  {
   "cell_type": "code",
   "execution_count": 21,
   "id": "94072bee-2e7f-4366-842f-abee5c2e6b98",
   "metadata": {},
   "outputs": [
    {
     "name": "stdout",
     "output_type": "stream",
     "text": [
      "0.017937660217285156\n",
      "0.0545804500579834\n",
      "ko 5.0\n",
      "[0.00 → 5.40]  이런 얘기들을 되게 많이 하시는데 저 사실 그렇게 생각해도 안 돼요.\n"
     ]
    }
   ],
   "source": [
    "# 실행\n",
    "import io\n",
    "import base64\n",
    "import time\n",
    "import soundfile as sf\n",
    "import librosa\n",
    "\n",
    "\n",
    "# 추론 파라미터\n",
    "params = dict(\n",
    "    beam_size=2,                # 1이면 그리디; 빔서치(>=2)는 느림. 보통 1~2 추천\n",
    "    best_of=1,                  # 그리디일 때는 의미 없음. 작게.\n",
    "    temperature=[0.9, 1.0],            # 안정/속도↑. (불확실 시 fallback으로 [0.0, 0.2, 0.4] 등 가능)\n",
    "    vad_filter=True,            # 무음 제거 → 디코딩량 ↓\n",
    "    vad_parameters=dict(min_silence_duration_ms=500),\n",
    "    chunk_length=15,            # 초 단위. 10~20초 권장(긴 문맥 필요하면 20~30)\n",
    "    no_speech_threshold=0.6,    # 무음 판단 강화로 낭비 줄이기\n",
    "    log_prob_threshold=-1.0,    # 너무 낮으면 실패로 간주하고 temperature fallback 고려\n",
    "    word_timestamps=False,      # 단어 타임스탬프 끄면 속도↑ (필요 시만 True)\n",
    "    condition_on_previous_text=False,  # 청크 간 의존 줄여 속도/안정 ↑\n",
    "    language=\"ko\"\n",
    ")\n",
    "\n",
    "# base64 문자열 예시\n",
    "with open(\"eo_05.mp3\", \"rb\") as f:\n",
    "    b64_audio = base64.b64encode(f.read()).decode()\n",
    "\n",
    "audio_bytes = base64.b64decode(b64_audio)\n",
    "stt = time.time()\n",
    "data, sr = sf.read(io.BytesIO(audio_bytes), dtype=\"float32\", always_2d=True)\n",
    "mono = data.mean(axis=1)  # 모노 변환\n",
    "mono_16k = librosa.resample(mono, orig_sr=sr, target_sr=16000)\n",
    "print(time.time() - stt)\n",
    "\n",
    "st = time.time()\n",
    "\n",
    "segments, info = model.transcribe(mono_16k, **params)\n",
    "\n",
    "print(time.time() - st)\n",
    "\n",
    "print(info.language, info.duration)\n",
    "for seg in segments:\n",
    "    print(f\"[{seg.start:.2f} → {seg.end:.2f}] {seg.text}\")"
   ]
  },
  {
   "cell_type": "code",
   "execution_count": null,
   "id": "1aa6ace1-b545-4f9f-b5cf-c8bb8cd41dbf",
   "metadata": {},
   "outputs": [],
   "source": []
  },
  {
   "cell_type": "code",
   "execution_count": 10,
   "id": "4b1ba6e4-2bed-4086-b89a-0f0d89a4a3e9",
   "metadata": {},
   "outputs": [
    {
     "name": "stderr",
     "output_type": "stream",
     "text": [
      "Device set to use cuda:0\n"
     ]
    }
   ],
   "source": [
    "# Load model directly\n",
    "from transformers import AutoProcessor, AutoModelForSpeechSeq2Seq, pipeline\n",
    "import torch\n",
    "\n",
    "device = \"cuda:0\" if torch.cuda.is_available() else \"cpu\"\n",
    "torch_dtype = torch.float16 if torch.cuda.is_available() else torch.float32\n",
    "\n",
    "koprocessor = AutoProcessor.from_pretrained(\"o0dimplz0o/Whisper-Large-v3-turbo-STT-Zeroth-KO-v2\")\n",
    "komodel = AutoModelForSpeechSeq2Seq.from_pretrained(\"o0dimplz0o/Whisper-Large-v3-turbo-STT-Zeroth-KO-v2\")\n",
    "# komodel.save_pretrained(\"/workspace/o0dimplz0o_zeroth_ko_v2\")\n",
    "# koprocessor.save_pretrained(\"/workspace/o0dimplz0o_zeroth_ko_v2\")\n",
    "\n",
    "pipe = pipeline(\n",
    "    \"automatic-speech-recognition\",\n",
    "    model=komodel,\n",
    "    tokenizer=koprocessor.tokenizer,\n",
    "    feature_extractor=koprocessor.feature_extractor,\n",
    "    torch_dtype=torch_dtype,\n",
    "    device=device,\n",
    ")"
   ]
  },
  {
   "cell_type": "code",
   "execution_count": 24,
   "id": "f505dec6-d2da-418d-8e41-4c340be74bc5",
   "metadata": {},
   "outputs": [
    {
     "name": "stdout",
     "output_type": "stream",
     "text": [
      "0.008387088775634766\n",
      "{'text': ' 이런 얘기들을 되게 많이 하시는데'} \n",
      " 0.2782461643218994\n"
     ]
    }
   ],
   "source": [
    "import io\n",
    "import base64\n",
    "import time\n",
    "import soundfile as sf\n",
    "import librosa\n",
    "\n",
    "# base64 문자열 예시\n",
    "with open(\"eo_02.mp3\", \"rb\") as f:\n",
    "    b64_audio = base64.b64encode(f.read()).decode()\n",
    "\n",
    "audio_bytes = base64.b64decode(b64_audio)\n",
    "stt = time.time()\n",
    "data, sr = sf.read(io.BytesIO(audio_bytes), dtype=\"float32\", always_2d=True)\n",
    "mono = data.mean(axis=1)  # 모노 변환\n",
    "mono_16k = librosa.resample(mono, orig_sr=sr, target_sr=16000)\n",
    "print(time.time() - stt)\n",
    "\n",
    "import time\n",
    "\n",
    "st = time.time()\n",
    "result = pipe(\n",
    "    mono_16k,\n",
    "    generate_kwargs={\"language\":\"korean\"}\n",
    ")\n",
    "print(result, \"\\n\", time.time() - st)"
   ]
  },
  {
   "cell_type": "code",
   "execution_count": null,
   "id": "ef402fba-b0b2-4f68-b1d0-f739bff6077b",
   "metadata": {},
   "outputs": [],
   "source": []
  },
  {
   "cell_type": "code",
   "execution_count": null,
   "id": "7e2da6b9-3199-437c-9d0e-2cabd5f4dc9b",
   "metadata": {},
   "outputs": [],
   "source": []
  }
 ],
 "metadata": {
  "kernelspec": {
   "display_name": "Python 3 (ipykernel)",
   "language": "python",
   "name": "python3"
  },
  "language_info": {
   "codemirror_mode": {
    "name": "ipython",
    "version": 3
   },
   "file_extension": ".py",
   "mimetype": "text/x-python",
   "name": "python",
   "nbconvert_exporter": "python",
   "pygments_lexer": "ipython3",
   "version": "3.11.11"
  }
 },
 "nbformat": 4,
 "nbformat_minor": 5
}
